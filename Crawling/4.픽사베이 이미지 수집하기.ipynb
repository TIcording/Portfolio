{
 "cells": [
  {
   "cell_type": "markdown",
   "id": "7f1b80e1",
   "metadata": {},
   "source": [
    "* https://pixabay.com/ko/"
   ]
  },
  {
   "cell_type": "code",
   "execution_count": 10,
   "id": "f6def414",
   "metadata": {},
   "outputs": [],
   "source": [
    "from selenium import webdriver\n",
    "import chromedriver_autoinstaller\n",
    "from selenium.webdriver.common.by import By\n",
    "import time\n",
    "from urllib.request import Request, urlopen\n"
   ]
  },
  {
   "cell_type": "markdown",
   "id": "3a0743e8",
   "metadata": {},
   "source": [
    "# 1.이미지 수집하기"
   ]
  },
  {
   "cell_type": "code",
   "execution_count": 11,
   "id": "b201e861",
   "metadata": {},
   "outputs": [],
   "source": [
    "driver = webdriver.Chrome()\n",
    "driver.implicitly_wait(3)\n",
    "\n",
    "url = 'https://pixabay.com/ko/images/search/푸들/'\n",
    "driver.get(url)\n",
    "time.sleep(3)\n"
   ]
  },
  {
   "cell_type": "code",
   "execution_count": 14,
   "id": "c30ba495",
   "metadata": {},
   "outputs": [
    {
     "name": "stdout",
     "output_type": "stream",
     "text": [
      "image_url: https://cdn.pixabay.com/photo/2018/05/19/19/25/animal-3414131_640.jpg\n"
     ]
    }
   ],
   "source": [
    "image_xpath ='/html/body/div[1]/div[1]/div/div[2]/div[3]/div/div/div[1]/div[3]/div/a/img'\n",
    "\n",
    "image_url =driver.find_element(By.XPATH,image_xpath).get_attribute('src')\n",
    "\n",
    "print('image_url:',image_url)\n"
   ]
  },
  {
   "cell_type": "code",
   "execution_count": 17,
   "id": "4a023daf",
   "metadata": {},
   "outputs": [],
   "source": [
    "image_byte = Request(image_url, headers={'User-Agent':'Mozilla/5.0 (Windows NT 10.0; Win64; x64)'})\n",
    "f = open('dog.jpg', 'wb')\n",
    "f.write(urlopen(image_byte).read())\n",
    "f.close()"
   ]
  },
  {
   "cell_type": "markdown",
   "id": "a8602c5e",
   "metadata": {},
   "source": [
    "# 2. 여러개 이미지 수집하기"
   ]
  },
  {
   "cell_type": "code",
   "execution_count": 27,
   "id": "c51d6339",
   "metadata": {},
   "outputs": [
    {
     "name": "stdout",
     "output_type": "stream",
     "text": [
      "https://cdn.pixabay.com/photo/2019/08/25/13/34/dogs-4429513_1280.jpg\n",
      "https://cdn.pixabay.com/photo/2022/07/12/17/12/dog-7317820_640.jpg\n",
      "https://cdn.pixabay.com/photo/2021/02/06/06/29/dog-5987025_640.jpg\n",
      "https://cdn.pixabay.com/photo/2016/04/15/09/10/dog-1330543_640.jpg\n",
      "https://cdn.pixabay.com/photo/2017/12/13/16/28/animals-3017138_640.jpg\n",
      "https://cdn.pixabay.com/photo/2016/07/31/13/43/dog-1558962_640.jpg\n",
      "https://cdn.pixabay.com/photo/2015/05/05/08/36/pets-753464_640.jpg\n",
      "https://cdn.pixabay.com/photo/2016/07/31/13/43/dog-1558961_640.jpg\n",
      "https://cdn.pixabay.com/photo/2017/10/19/09/57/dog-2867014_640.jpg\n",
      "https://cdn.pixabay.com/photo/2018/08/19/01/33/poodle-3615894_640.jpg\n",
      "https://cdn.pixabay.com/photo/2018/10/18/23/40/poodle-3757650_640.jpg\n",
      "https://cdn.pixabay.com/photo/2017/10/19/09/59/dog-2867017_640.jpg\n",
      "https://cdn.pixabay.com/photo/2018/09/16/20/30/poodle-3682358_640.jpg\n",
      "https://cdn.pixabay.com/photo/2019/10/17/20/59/poodle-4557830_640.jpg\n",
      "https://cdn.pixabay.com/photo/2018/09/16/19/49/poodle-3682253_640.jpg\n",
      "https://cdn.pixabay.com/photo/2022/01/25/17/11/poodle-6966810_640.png\n",
      "https://cdn.pixabay.com/photo/2018/08/15/14/13/poodle-3608143_640.jpg\n",
      "https://cdn.pixabay.com/photo/2017/08/13/18/43/dog-2638189_640.jpg\n",
      "https://cdn.pixabay.com/photo/2018/08/15/15/42/poodle-3608329_640.jpg\n",
      "https://cdn.pixabay.com/photo/2015/03/01/09/00/dog-654506_640.jpg\n",
      "https://cdn.pixabay.com/photo/2019/05/24/16/46/dog-4226678_640.jpg\n",
      "https://cdn.pixabay.com/photo/2016/04/15/17/32/dog-1331487_640.jpg\n",
      "https://cdn.pixabay.com/photo/2022/07/18/21/30/dog-7330857_640.jpg\n",
      "https://cdn.pixabay.com/photo/2014/03/17/09/59/poodle-289007_640.jpg\n",
      "https://cdn.pixabay.com/photo/2013/02/24/01/18/irish-wolfhound-85578_640.jpg\n",
      "https://cdn.pixabay.com/photo/2022/05/17/23/04/poodle-7203862_640.jpg\n",
      "https://cdn.pixabay.com/photo/2019/03/25/22/52/poodle-4081526_640.jpg\n",
      "https://cdn.pixabay.com/photo/2018/08/26/18/55/dog-3632996_640.jpg\n",
      "https://cdn.pixabay.com/photo/2015/04/04/19/38/dog-706958_640.jpg\n",
      "https://cdn.pixabay.com/photo/2018/09/28/22/03/bernedoodle-3710348_640.jpg\n",
      "https://cdn.pixabay.com/photo/2023/02/01/11/16/dog-7760216_640.png\n",
      "https://cdn.pixabay.com/photo/2017/07/03/21/09/miniature-poodle-2469004_640.jpg\n",
      "https://cdn.pixabay.com/photo/2018/04/05/23/15/dwarf-poodle-black-3294512_640.jpg\n",
      "https://cdn.pixabay.com/photo/2018/09/28/22/02/bernedoodle-3710339_640.jpg\n",
      "https://cdn.pixabay.com/photo/2016/04/01/00/36/animal-1298286_640.png\n",
      "https://cdn.pixabay.com/photo/2017/03/14/21/14/dog-2144422_640.jpg\n",
      "https://cdn.pixabay.com/photo/2017/07/20/03/50/poodle-2521138_640.jpg\n",
      "https://cdn.pixabay.com/photo/2020/09/08/17/44/dog-5555442_640.jpg\n",
      "https://cdn.pixabay.com/photo/2014/12/02/15/26/dog-554127_640.jpg\n",
      "https://cdn.pixabay.com/photo/2022/03/08/16/49/older-couple-7056162_640.png\n",
      "https://cdn.pixabay.com/photo/2019/11/30/08/44/dog-4662825_640.jpg\n",
      "https://cdn.pixabay.com/photo/2020/04/16/16/08/dog-5051225_640.jpg\n",
      "https://cdn.pixabay.com/photo/2018/07/08/21/18/labradoodle-3524825_640.jpg\n",
      "https://cdn.pixabay.com/photo/2019/11/30/09/11/king-poodle-4662859_640.jpg\n",
      "https://cdn.pixabay.com/photo/2019/11/30/08/44/dog-4662824_640.jpg\n",
      "https://cdn.pixabay.com/photo/2020/11/29/01/28/dog-5786067_640.jpg\n",
      "https://cdn.pixabay.com/photo/2021/09/08/11/41/dog-6606803_640.jpg\n",
      "https://cdn.pixabay.com/photo/2015/03/20/07/19/puppy-681887_640.jpg\n",
      "https://cdn.pixabay.com/photo/2015/05/01/09/19/poodle-748038_640.jpg\n",
      "https://cdn.pixabay.com/photo/2019/11/30/08/43/dog-4662822_640.jpg\n",
      "https://cdn.pixabay.com/photo/2019/02/06/15/18/puppy-3979350_640.jpg\n",
      "https://cdn.pixabay.com/photo/2018/05/19/19/25/animal-3414131_640.jpg\n",
      "https://cdn.pixabay.com/photo/2020/06/07/17/19/child-5271290_640.jpg\n",
      "https://cdn.pixabay.com/photo/2017/03/14/01/51/poodle-2141699_640.jpg\n",
      "https://cdn.pixabay.com/photo/2016/08/01/15/58/poodle-1561405_640.jpg\n",
      "https://cdn.pixabay.com/photo/2012/05/07/13/37/yellow-48484_640.png\n",
      "https://cdn.pixabay.com/photo/2013/07/18/10/58/woman-163687_640.jpg\n",
      "https://cdn.pixabay.com/photo/2018/09/12/22/47/poodle-3673386_640.jpg\n",
      "https://cdn.pixabay.com/photo/2017/07/20/03/50/poodle-2521137_640.jpg\n",
      "https://cdn.pixabay.com/photo/2018/08/15/12/54/poodle-3607995_640.jpg\n",
      "https://cdn.pixabay.com/photo/2016/08/23/23/07/dog-1615767_640.jpg\n",
      "https://cdn.pixabay.com/photo/2017/10/01/20/54/dog-2807015_640.jpg\n",
      "https://cdn.pixabay.com/photo/2013/07/12/16/50/poodle-151350_640.png\n",
      "https://cdn.pixabay.com/photo/2018/09/30/16/08/poodle-3713803_640.jpg\n",
      "https://cdn.pixabay.com/photo/2013/08/18/01/31/dog-173556_640.jpg\n",
      "https://cdn.pixabay.com/photo/2017/10/01/20/49/dog-2806999_640.jpg\n",
      "https://cdn.pixabay.com/photo/2017/10/01/20/49/dog-2806996_640.jpg\n",
      "https://cdn.pixabay.com/photo/2018/09/28/22/03/dog-3710345_640.jpg\n",
      "https://cdn.pixabay.com/photo/2018/08/15/13/06/poodle-3608008_640.jpg\n",
      "https://cdn.pixabay.com/photo/2017/10/24/19/29/pomapoo-2885845_640.jpg\n",
      "https://cdn.pixabay.com/photo/2017/10/11/22/18/dog-2842708_640.jpg\n",
      "https://cdn.pixabay.com/photo/2016/04/15/17/32/dog-1331485_640.jpg\n",
      "https://cdn.pixabay.com/photo/2022/07/14/19/19/dog-7321828_640.jpg\n",
      "https://cdn.pixabay.com/photo/2018/05/09/16/22/poodle-3385566_640.jpg\n",
      "https://cdn.pixabay.com/photo/2022/07/07/07/25/dog-7306690_640.jpg\n",
      "https://cdn.pixabay.com/photo/2022/01/18/12/00/girl-6946886_640.png\n",
      "https://cdn.pixabay.com/photo/2017/04/04/08/28/dogs-2200676_640.jpg\n",
      "https://cdn.pixabay.com/photo/2022/07/23/20/29/dog-7340560_640.jpg\n",
      "https://cdn.pixabay.com/photo/2022/07/12/17/12/dog-7317818_640.jpg\n",
      "https://cdn.pixabay.com/photo/2018/01/30/10/49/poodle-3118431_640.png\n",
      "https://cdn.pixabay.com/photo/2019/08/04/09/32/poodle-4383449_640.jpg\n",
      "https://cdn.pixabay.com/photo/2018/05/13/20/15/labradoodle-3397769_640.jpg\n",
      "https://cdn.pixabay.com/photo/2017/10/19/10/01/dog-2867024_640.jpg\n",
      "https://cdn.pixabay.com/photo/2017/08/07/19/56/dog-2607209_640.jpg\n",
      "https://cdn.pixabay.com/photo/2018/05/10/21/19/dog-3388774_640.jpg\n",
      "https://cdn.pixabay.com/photo/2020/04/16/16/12/dog-5051254_640.jpg\n",
      "https://cdn.pixabay.com/photo/2017/10/15/21/05/labradoodle-2855259_640.jpg\n",
      "https://cdn.pixabay.com/photo/2017/03/30/14/31/puppies-2188648_640.jpg\n",
      "https://cdn.pixabay.com/photo/2020/04/22/06/22/dog-5076144_640.jpg\n",
      "https://cdn.pixabay.com/photo/2022/04/25/15/50/dogs-7156260_640.jpg\n",
      "https://cdn.pixabay.com/photo/2018/09/16/20/08/poodle-3682307_640.jpg\n",
      "https://cdn.pixabay.com/photo/2018/10/01/17/33/sheepadoodle-3716841_640.jpg\n",
      "https://cdn.pixabay.com/photo/2023/04/15/17/07/labradoodle-7928146_640.jpg\n",
      "https://cdn.pixabay.com/photo/2022/01/23/20/40/poodle-6961909_640.png\n",
      "https://cdn.pixabay.com/photo/2015/03/01/09/02/poodle-654508_640.jpg\n",
      "https://cdn.pixabay.com/photo/2018/05/13/20/32/labradoodle-3397857_640.jpg\n",
      "https://cdn.pixabay.com/photo/2016/08/23/23/07/dog-1615770_640.jpg\n",
      "https://cdn.pixabay.com/photo/2016/11/02/05/26/chanao-sir-poodle-1790594_640.jpg\n",
      "https://cdn.pixabay.com/photo/2017/01/18/23/55/hawaiian-1991221_640.png\n"
     ]
    }
   ],
   "source": [
    "driver = webdriver.Chrome()\n",
    "driver.implicitly_wait(3)\n",
    "\n",
    "url = 'https://pixabay.com/ko/images/search/푸들/'\n",
    "driver.get(url)\n",
    "time.sleep(3)\n",
    "\n",
    "image_area_xpath = '/html/body/div[1]/div[1]/div/div[2]/div[3]'\n",
    "image_area =driver.find_element(By.XPATH,image_area_xpath)\n",
    "image_elements = image_area.find_elements(By.TAG_NAME,'img')\n",
    "\n",
    "\n",
    "\n",
    "image_urls=[]\n",
    "\n",
    "for image_element in image_elements:\n",
    "    image_url = image_element.get_attribute('data-lazy-src')\n",
    "    if image_element.get_attribute('data-lazy-src') is None:\n",
    "        image_url = image_element.get_attribute('src')\n",
    "    print(image_url)"
   ]
  },
  {
   "cell_type": "code",
   "execution_count": 29,
   "id": "d91a0eb3",
   "metadata": {},
   "outputs": [],
   "source": [
    "for i in range(len(image_urls)):\n",
    "    image_url = image_urls[i]\n",
    "    image_byte = Request(image_url, headers={'User-Agent':'Mozilla/5.0 (Windows NT 10.0; Win64; x64)'})\n",
    "    f = open(f'dog{i+1}.jpg', 'wb')\n",
    "    f.write(urlopen(image_byte).read())\n",
    "    f.close()"
   ]
  },
  {
   "cell_type": "markdown",
   "id": "ee44da05",
   "metadata": {},
   "source": [
    "# 3.함수로 리팩토링"
   ]
  },
  {
   "cell_type": "markdown",
   "id": "9c45be8a",
   "metadata": {},
   "source": [
    "* crawl_image(keyword,pages)"
   ]
  },
  {
   "cell_type": "code",
   "execution_count": 30,
   "id": "b5e4c78c",
   "metadata": {},
   "outputs": [],
   "source": [
    "import os\n",
    "\n",
    "def crawl_image(keyword, pages):\n",
    "    driver = webdriver.Chrome()\n",
    "    driver.implicitly_wait(3)\n",
    "\n",
    "    # 폴더 생성\n",
    "    folder_path = f\"./{keyword}\"\n",
    "    if not os.path.exists(folder_path):\n",
    "        os.makedirs(folder_path)\n",
    "\n",
    "    for page in range(1, pages+1):\n",
    "        url = f'https://pixabay.com/ko/images/search/{keyword}/?pagi={page}'\n",
    "        driver.get(url)\n",
    "        time.sleep(3)\n",
    "\n",
    "        image_area_xpath = '/html/body/div[1]/div[1]/div/div[2]/div[3]'\n",
    "        image_area = driver.find_element(By.XPATH, image_area_xpath)\n",
    "        image_elements = image_area.find_elements(By.TAG_NAME, 'img')\n",
    "\n",
    "        image_urls = []\n",
    "\n",
    "        for image_element in image_elements:\n",
    "            image_url = image_element.get_attribute('data-lazy-src')\n",
    "            if image_url is None:\n",
    "                image_url = image_element.get_attribute('src')\n",
    "            image_urls.append(image_url)\n",
    "\n",
    "        for i in range(len(image_urls)):\n",
    "            image_url = image_urls[i]\n",
    "            image_byte = Request(image_url, headers={'User-Agent': 'Mozilla/5.0 (Windows NT 10.0; Win64; x64)'})\n",
    "            image_path = os.path.join(folder_path, f'{keyword}_{page}_{i+1}.jpg')\n",
    "            with open(image_path, 'wb') as f:\n",
    "                f.write(urlopen(image_byte).read())\n",
    "\n",
    "    driver.quit()\n",
    "\n",
    "\n",
    "# 테스트 예시\n",
    "crawl_image('푸들', 3)"
   ]
  },
  {
   "cell_type": "code",
   "execution_count": 33,
   "id": "2a043aee",
   "metadata": {},
   "outputs": [],
   "source": [
    "crawl_image('산',2)"
   ]
  },
  {
   "cell_type": "code",
   "execution_count": 34,
   "id": "12b02fe6",
   "metadata": {},
   "outputs": [],
   "source": [
    "crawl_image('우주',2)"
   ]
  },
  {
   "cell_type": "code",
   "execution_count": 35,
   "id": "999df5ec",
   "metadata": {},
   "outputs": [],
   "source": [
    "crawl_image('신',2)"
   ]
  },
  {
   "cell_type": "markdown",
   "id": "77fa708c",
   "metadata": {},
   "source": [
    "### 과제1.\n",
    "* 바나프레소 홈페이지 매장찾기 들어가서 매장명이랑 주소 크롤링후 엑셀저장\n",
    "\n"
   ]
  },
  {
   "cell_type": "markdown",
   "id": "7b404455",
   "metadata": {},
   "source": [
    "### 과제2.\n",
    "* 쇼핑몰 선정하고 카테고리를 정해 크롤링하고 해당 카테고리 사진을 폴더로 정리하기\n",
    "\n",
    "* MYSQL에 테이블을 만들고 카테고리와 파일경로를 저장\n"
   ]
  }
 ],
 "metadata": {
  "kernelspec": {
   "display_name": "Python 3 (ipykernel)",
   "language": "python",
   "name": "python3"
  },
  "language_info": {
   "codemirror_mode": {
    "name": "ipython",
    "version": 3
   },
   "file_extension": ".py",
   "mimetype": "text/x-python",
   "name": "python",
   "nbconvert_exporter": "python",
   "pygments_lexer": "ipython3",
   "version": "3.8.6"
  }
 },
 "nbformat": 4,
 "nbformat_minor": 5
}
