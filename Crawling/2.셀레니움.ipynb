{
 "cells": [
  {
   "cell_type": "markdown",
   "id": "013b9d63",
   "metadata": {},
   "source": [
    "# 1. 셀레니움\n",
    "### 셀레니움 브라우저를 컨트롤할 수 있도록 지원하는 라이브러리"
   ]
  },
  {
   "cell_type": "code",
   "execution_count": 2,
   "id": "83f85192",
   "metadata": {},
   "outputs": [
    {
     "name": "stdout",
     "output_type": "stream",
     "text": [
      "Collecting selenium\n",
      "  Downloading selenium-4.9.1-py3-none-any.whl (6.6 MB)\n",
      "Collecting trio-websocket~=0.9\n",
      "  Downloading trio_websocket-0.10.2-py3-none-any.whl (17 kB)\n",
      "Collecting trio~=0.17\n",
      "  Downloading trio-0.22.0-py3-none-any.whl (384 kB)\n",
      "Collecting urllib3[socks]<3,>=1.26\n",
      "  Downloading urllib3-2.0.2-py3-none-any.whl (123 kB)\n",
      "Collecting certifi>=2021.10.8\n",
      "  Downloading certifi-2023.5.7-py3-none-any.whl (156 kB)\n",
      "Collecting exceptiongroup\n",
      "  Downloading exceptiongroup-1.1.1-py3-none-any.whl (14 kB)\n",
      "Collecting wsproto>=0.14\n",
      "  Downloading wsproto-1.2.0-py3-none-any.whl (24 kB)\n",
      "Requirement already satisfied: sniffio in c:\\users\\administrator\\appdata\\local\\programs\\python\\python38\\lib\\site-packages (from trio~=0.17->selenium) (1.3.0)\n",
      "Collecting sortedcontainers\n",
      "  Downloading sortedcontainers-2.4.0-py2.py3-none-any.whl (29 kB)\n",
      "Collecting async-generator>=1.9\n",
      "  Downloading async_generator-1.10-py3-none-any.whl (18 kB)\n",
      "Requirement already satisfied: idna in c:\\users\\administrator\\appdata\\local\\programs\\python\\python38\\lib\\site-packages (from trio~=0.17->selenium) (3.4)\n",
      "Requirement already satisfied: cffi>=1.14; os_name == \"nt\" and implementation_name != \"pypy\" in c:\\users\\administrator\\appdata\\local\\programs\\python\\python38\\lib\\site-packages (from trio~=0.17->selenium) (1.15.1)\n",
      "Collecting outcome\n",
      "  Downloading outcome-1.2.0-py2.py3-none-any.whl (9.7 kB)\n",
      "Requirement already satisfied: attrs>=19.2.0 in c:\\users\\administrator\\appdata\\local\\programs\\python\\python38\\lib\\site-packages (from trio~=0.17->selenium) (22.2.0)\n",
      "Collecting pysocks!=1.5.7,<2.0,>=1.5.6; extra == \"socks\"\n",
      "  Downloading PySocks-1.7.1-py3-none-any.whl (16 kB)\n",
      "Collecting h11<1,>=0.9.0\n",
      "  Downloading h11-0.14.0-py3-none-any.whl (58 kB)\n",
      "Requirement already satisfied: pycparser in c:\\users\\administrator\\appdata\\local\\programs\\python\\python38\\lib\\site-packages (from cffi>=1.14; os_name == \"nt\" and implementation_name != \"pypy\"->trio~=0.17->selenium) (2.21)\n",
      "Installing collected packages: exceptiongroup, sortedcontainers, async-generator, outcome, trio, h11, wsproto, trio-websocket, pysocks, urllib3, certifi, selenium\n",
      "Successfully installed async-generator-1.10 certifi-2023.5.7 exceptiongroup-1.1.1 h11-0.14.0 outcome-1.2.0 pysocks-1.7.1 selenium-4.9.1 sortedcontainers-2.4.0 trio-0.22.0 trio-websocket-0.10.2 urllib3-2.0.2 wsproto-1.2.0\n"
     ]
    },
    {
     "name": "stderr",
     "output_type": "stream",
     "text": [
      "WARNING: You are using pip version 20.2.1; however, version 23.1.2 is available.\n",
      "You should consider upgrading via the 'c:\\users\\administrator\\appdata\\local\\programs\\python\\python38\\python.exe -m pip install --upgrade pip' command.\n"
     ]
    }
   ],
   "source": [
    "!pip install selenium"
   ]
  },
  {
   "cell_type": "code",
   "execution_count": 3,
   "id": "3b2860b2",
   "metadata": {},
   "outputs": [
    {
     "name": "stdout",
     "output_type": "stream",
     "text": [
      "Collecting chromedriver_autoinstaller\n",
      "  Downloading chromedriver_autoinstaller-0.4.0-py3-none-any.whl (6.5 kB)\n",
      "Installing collected packages: chromedriver-autoinstaller\n",
      "Successfully installed chromedriver-autoinstaller-0.4.0\n"
     ]
    },
    {
     "name": "stderr",
     "output_type": "stream",
     "text": [
      "WARNING: You are using pip version 20.2.1; however, version 23.1.2 is available.\n",
      "You should consider upgrading via the 'c:\\users\\administrator\\appdata\\local\\programs\\python\\python38\\python.exe -m pip install --upgrade pip' command.\n"
     ]
    }
   ],
   "source": [
    "!pip install chromedriver_autoinstaller"
   ]
  },
  {
   "cell_type": "code",
   "execution_count": 22,
   "id": "0fed6063",
   "metadata": {},
   "outputs": [],
   "source": [
    "from selenium import webdriver\n",
    "from selenium.webdriver.common.keys import Keys"
   ]
  },
  {
   "cell_type": "code",
   "execution_count": 9,
   "id": "3a472ce0",
   "metadata": {},
   "outputs": [],
   "source": [
    "driver = webdriver.Chrome()"
   ]
  },
  {
   "cell_type": "code",
   "execution_count": 17,
   "id": "635f6586",
   "metadata": {},
   "outputs": [],
   "source": [
    "driver.get('https://www.python.org')"
   ]
  },
  {
   "cell_type": "code",
   "execution_count": 16,
   "id": "062fcc2e",
   "metadata": {},
   "outputs": [],
   "source": [
    "driver.get('https://comic.naver.com/index')"
   ]
  },
  {
   "cell_type": "code",
   "execution_count": 18,
   "id": "359664a2",
   "metadata": {},
   "outputs": [],
   "source": [
    "driver.get('https://www.google.com')"
   ]
  },
  {
   "cell_type": "code",
   "execution_count": 19,
   "id": "3e4ef2cc",
   "metadata": {},
   "outputs": [],
   "source": [
    "search =driver.find_element('name','q')"
   ]
  },
  {
   "cell_type": "code",
   "execution_count": 20,
   "id": "7ab4854b",
   "metadata": {},
   "outputs": [],
   "source": [
    "search.send_keys('날씨')"
   ]
  },
  {
   "cell_type": "code",
   "execution_count": 23,
   "id": "85c29f6e",
   "metadata": {},
   "outputs": [],
   "source": [
    "search.send_keys(Keys.RETURN)"
   ]
  },
  {
   "cell_type": "markdown",
   "id": "9427fc9e",
   "metadata": {},
   "source": [
    "# 2. 네이버 웹툰\n",
    "### https://comic.naver.com/webtoon/list?titleId=774044"
   ]
  },
  {
   "cell_type": "code",
   "execution_count": 46,
   "id": "69acc40d",
   "metadata": {},
   "outputs": [],
   "source": [
    "driver = webdriver.Chrome()\n",
    "driver.get('https://comic.naver.com/webtoon/detail?titleId=808198&no=9')"
   ]
  },
  {
   "cell_type": "code",
   "execution_count": 47,
   "id": "ba9d2f1f",
   "metadata": {},
   "outputs": [],
   "source": [
    "from bs4 import BeautifulSoup"
   ]
  },
  {
   "cell_type": "code",
   "execution_count": 48,
   "id": "e6fab4da",
   "metadata": {},
   "outputs": [],
   "source": [
    "soup = BeautifulSoup(driver.page_source)"
   ]
  },
  {
   "cell_type": "code",
   "execution_count": 49,
   "id": "2f34f4de",
   "metadata": {},
   "outputs": [
    {
     "name": "stdout",
     "output_type": "stream",
     "text": [
      "[<span class=\"u_cbox_contents\" data-lang=\"ko\" style=\"\">두 다리 잃은거에 모자라 사망까지일줄은 몰랐네... 저 정신으로 어캐 살아있었냐</span>, <span class=\"u_cbox_contents\" data-lang=\"ko\" style=\"\">인어공주라는게 수영하다가 죽은거구나......누나를 그것도 육상선수 다리를......\n",
      "이걸 가벼운 장난이나 가볍게 여기는 마인드부터 애초에 사람발상에서 나왔다고는 믿기지 않는 악의다......\n",
      "웹툰이지만 진짜 최악의 인간이네....</span>, <span class=\"u_cbox_contents\" data-lang=\"ko\" style=\"\">다음화에 제발 저 안경잡이 빌런 참교육 해주세요</span>, <span class=\"u_cbox_contents\" data-lang=\"ko\" style=\"\">안경잡이 표정 ㄹㅇ혐오스럽게 잘그리네;;</span>, <span class=\"u_cbox_contents\" data-lang=\"ko\" style=\"\">몸에 있는 문신중에  인어공주가 누나고...익사한게 맞았구나.. 문신 1개마다 주인공의 가족의 아픔과 복수의 대상이 있는 것 같음 앞으로 나머지 두명의 복수의 대상이 궁금하다</span>, <span class=\"u_cbox_contents\" data-lang=\"ko\" style=\"\">박태준 다른 만화 특: 따돌림 행위에 대한 일진미화가 있고 한 짓에 대한 과잉방위가 들어가서 당한 일에 비해 너무 지나치게 복수한게 아닌가 싶은 것들이 있음\n",
      "촉법소년: 이윤성이 당한 가혹행위들은 어지간한 인간의 정신이 견딜 수 있는 수준을 넘어서서 뭘 어떻게 줘패도 지나치지도 않고 범죄자들은 물론, 주인공인 이윤성조차 악인으로 확정지으며 일진 미화 요소를 철저하게 배제했음</span>, <span class=\"u_cbox_contents\" data-lang=\"ko\" style=\"\">개재밌다</span>, <span class=\"u_cbox_contents\" data-lang=\"ko\" style=\"\">역대급으로 불행한 주인공이네김진우보다 더한 피해자가 나올즐이야</span>, <span class=\"u_cbox_contents\" data-lang=\"ko\" style=\"\">독자들 예상: 성폭행, 자살실제: 성폭행 미수, 자동차 추돌로 양다리 장애인 만듦, '불의의 사고'로 사망\n",
      "\n",
      "성폭행 검열해서 약해졌다기엔 오히려 훨씬 버프된거 같은데</span>, <span class=\"u_cbox_contents\" data-lang=\"ko\" style=\"\">다리를 잃고 수영을 하다가 사망한 누나를 인어로 표현한거네.... 단순히 물에서 죽은의미가 아니라 다리마저 잃은것도 담은듯</span>, <span class=\"u_cbox_contents\" data-lang=\"ko\" style=\"\">솔직히 말해서 주인공이 올라운더에 인정사정 안 봐주는 타입이고 연령대만 청소년대라 그렇지 박태준 유니버스 내에서는 손꼽히게 어두운 배경의 작품임.박태준의 다른 액션물, 느와르물은 희망과 의지할 대상이 존재하지만 여기 주인공인 이윤성한테는 희망도 의지할 대상도, 심지어 복수 외에는 삶에 대한 의지도 없음.\n",
      "만약 단순 복수 액션 웹툰인 이 상황에서 촉법소년들 부모님들이 고위 공직자거나 사회적으로 높은 위치에 있는 사람들이라면서 뒷세계 배경들이 끼기 시작하면 본작은 박태준 웹툰 통틀어서도 가장 암울하고 잔인한 느와르 액션물이 될듯.</span>, <span class=\"u_cbox_contents\" data-lang=\"ko\" style=\"\">복수해도 죽은사람이 돌아오지는 않지만복수하는게 더 시원하지 않냐</span>, <span class=\"u_cbox_contents\" data-lang=\"ko\" style=\"\">와 두다리 없어서 인어공주라고 표현한거임? 레전든데 이거..</span>]\n"
     ]
    }
   ],
   "source": [
    "comment_area = soup.findAll('span', {'class' : 'u_cbox_contents'})\n",
    "print(comment_area)"
   ]
  },
  {
   "cell_type": "code",
   "execution_count": 50,
   "id": "cf8dffe7",
   "metadata": {},
   "outputs": [
    {
     "name": "stdout",
     "output_type": "stream",
     "text": [
      "********* 베스트댓글 **********\n",
      "두 다리 잃은거에 모자라 사망까지일줄은 몰랐네... 저 정신으로 어캐 살아있었냐\n",
      "------------------------------\n",
      "인어공주라는게 수영하다가 죽은거구나......누나를 그것도 육상선수 다리를......\n",
      "이걸 가벼운 장난이나 가볍게 여기는 마인드부터 애초에 사람발상에서 나왔다고는 믿기지 않는 악의다......\n",
      "웹툰이지만 진짜 최악의 인간이네....\n",
      "------------------------------\n",
      "다음화에 제발 저 안경잡이 빌런 참교육 해주세요\n",
      "------------------------------\n",
      "안경잡이 표정 ㄹㅇ혐오스럽게 잘그리네;;\n",
      "------------------------------\n",
      "몸에 있는 문신중에  인어공주가 누나고...익사한게 맞았구나.. 문신 1개마다 주인공의 가족의 아픔과 복수의 대상이 있는 것 같음 앞으로 나머지 두명의 복수의 대상이 궁금하다\n",
      "------------------------------\n",
      "박태준 다른 만화 특: 따돌림 행위에 대한 일진미화가 있고 한 짓에 대한 과잉방위가 들어가서 당한 일에 비해 너무 지나치게 복수한게 아닌가 싶은 것들이 있음\n",
      "촉법소년: 이윤성이 당한 가혹행위들은 어지간한 인간의 정신이 견딜 수 있는 수준을 넘어서서 뭘 어떻게 줘패도 지나치지도 않고 범죄자들은 물론, 주인공인 이윤성조차 악인으로 확정지으며 일진 미화 요소를 철저하게 배제했음\n",
      "------------------------------\n",
      "개재밌다\n",
      "------------------------------\n",
      "역대급으로 불행한 주인공이네김진우보다 더한 피해자가 나올즐이야\n",
      "------------------------------\n",
      "독자들 예상: 성폭행, 자살실제: 성폭행 미수, 자동차 추돌로 양다리 장애인 만듦, '불의의 사고'로 사망\n",
      "\n",
      "성폭행 검열해서 약해졌다기엔 오히려 훨씬 버프된거 같은데\n",
      "------------------------------\n",
      "다리를 잃고 수영을 하다가 사망한 누나를 인어로 표현한거네.... 단순히 물에서 죽은의미가 아니라 다리마저 잃은것도 담은듯\n",
      "------------------------------\n",
      "솔직히 말해서 주인공이 올라운더에 인정사정 안 봐주는 타입이고 연령대만 청소년대라 그렇지 박태준 유니버스 내에서는 손꼽히게 어두운 배경의 작품임.박태준의 다른 액션물, 느와르물은 희망과 의지할 대상이 존재하지만 여기 주인공인 이윤성한테는 희망도 의지할 대상도, 심지어 복수 외에는 삶에 대한 의지도 없음.\n",
      "만약 단순 복수 액션 웹툰인 이 상황에서 촉법소년들 부모님들이 고위 공직자거나 사회적으로 높은 위치에 있는 사람들이라면서 뒷세계 배경들이 끼기 시작하면 본작은 박태준 웹툰 통틀어서도 가장 암울하고 잔인한 느와르 액션물이 될듯.\n",
      "------------------------------\n",
      "복수해도 죽은사람이 돌아오지는 않지만복수하는게 더 시원하지 않냐\n",
      "------------------------------\n",
      "와 두다리 없어서 인어공주라고 표현한거임? 레전든데 이거..\n",
      "------------------------------\n"
     ]
    }
   ],
   "source": [
    "print('********* 베스트댓글 **********')\n",
    "for i in range(len(comment_area)):\n",
    "    comment =comment_area[i].text.strip()\n",
    "    print(comment)\n",
    "    print('-'*30)"
   ]
  },
  {
   "cell_type": "markdown",
   "id": "89d63054",
   "metadata": {},
   "source": [
    "* Xpath : 기존의 컴퓨터 파일 시스템에서 사용하는 경로 표현식과 유사한 xml의 경로언어 (Element에서 copy -> copy full Xpath)\n",
    "* /html/body/div[1]/div[5]/div/div/div[5]/div[1]/div[3]/div/div/div[8]/a/span[1]\n"
   ]
  },
  {
   "cell_type": "code",
   "execution_count": 51,
   "id": "0af08ff3",
   "metadata": {},
   "outputs": [],
   "source": [
    "# 전체 댓글 더보기 버튼 클릭하기\n",
    "driver.find_element('xpath','/html/body/div[1]/div[5]/div/div/div[5]/div[1]/div[3]/div/div/div[8]/a/span[1]').click()\n"
   ]
  },
  {
   "cell_type": "code",
   "execution_count": 54,
   "id": "54e70d3d",
   "metadata": {},
   "outputs": [
    {
     "name": "stdout",
     "output_type": "stream",
     "text": [
      "[<span class=\"u_cbox_contents\" data-lang=\"ko\" style=\"\">안경잡이 표정 진짜 가관이네</span>, <span class=\"u_cbox_contents\" data-lang=\"ko\" style=\"\">그래도 뉴나는 진심으로 두다리잃았다고 평생 숨어산게아니고 그걸 수영으로 변경해서 해냈다는게 진짜 대단한거 같음...저런 그스끄한테 당한게아니어서 그래도 그나마 누나답게 살아갔다는게 다행이긴하다....</span>, <span class=\"u_cbox_contents\" data-lang=\"ko\" style=\"\">갤럭시 노트 10 쓰네, 뭘 좀 아는구나</span>, <span class=\"u_cbox_contents\" data-lang=\"ko\" style=\"\">언니 너무 불쌍하다ㅜㅜㅜ</span>, <span class=\"u_cbox_contents\" data-lang=\"ko\" style=\"\">왜 마지막에 강남건물주가 보이지?</span>, <span class=\"u_cbox_contents\" data-lang=\"ko\" style=\"\">요즘 학교폭력 인식이 점점 폭력 안쓰면 학교폭력 아니게 되어버림.. 너무 재밌는데 좀 씁슬하네 더 글로리도 그렇고 왕따 같은거 당한다고 하면 때렸어? 안때렸는데 증거가 어딨어 그게 학교폭력이야? 이럼.. </span>, <span class=\"u_cbox_contents\" data-lang=\"ko\" style=\"\">지린다</span>, <span class=\"u_cbox_contents\" data-lang=\"ko\" style=\"\">뭔가 좀... 다행...?ㅎ</span>, <span class=\"u_cbox_contents\" data-lang=\"ko\" style=\"\">최든 묻지마 폭행으로 한가정의 아버지를 실명하게 한 사건을 판사가 1년6개월 때렸는데... 차라리 이 방법이 더 정당한 처벌로 보인다</span>, <span class=\"u_cbox_contents\" data-lang=\"ko\" style=\"\">누나 불의의 사고로 결국 돌아가셨다고 했는데,,, 그 사고도 조영범이 사주했을 것 같음,,, 자기가 다리 망가지게 만든거 숨길라고</span>, <span class=\"u_cbox_contents\" data-lang=\"ko\" style=\"\">내용이 좀 너무 역한데</span>, <span class=\"u_cbox_contents\" data-lang=\"ko\" style=\"\">이야 김부장이 애 제대로 키웠나보네</span>, <span class=\"u_cbox_contents\" data-lang=\"ko\" style=\"\">진짜 웹툰 ㅈㄴ자극적이네</span>, <span class=\"u_cbox_contents\" data-lang=\"ko\" style=\"\">아니 검은화면 왜 없나 했는데, 그냥 연출이야? 아님 진짜 컷 빠트린거야?</span>, <span class=\"u_cbox_contents\" data-lang=\"ko\" style=\"\">복수는 잔인하게...</span>, <span class=\"u_cbox_contents\" data-lang=\"ko\" style=\"\">강남건물주가 선녀였네 ㅋㅋ</span>, <span class=\"u_cbox_contents\" data-lang=\"ko\" style=\"\">안경잡이 얼굴 GTO에서 많이보던 느낌인데</span>, <span class=\"u_cbox_contents\" data-lang=\"ko\" style=\"\">그 조영범 열쇠열어서 지옥으로 보내줄 지옥사용자 없냐 .그냥 냅둘거냐...어휴........</span>, <span class=\"u_cbox_contents\" data-lang=\"ko\" style=\"\">그니까 가족은 건드리는거 아니지..... 가족은 건드리지 말자 제발</span>, <span class=\"u_cbox_contents\" data-lang=\"ko\" style=\"\">따도 따도 또 따고 싶어요~~~ by 125억 코인충~ ㅋㅋㅋㅋㅋㅋㅋㅋㅋㅋㅋ</span>, <span class=\"u_cbox_contents\" data-lang=\"ko\" style=\"\">왠지 있을거같다 실존인물</span>, <span class=\"u_cbox_contents\" data-lang=\"ko\" style=\"\">액션 잼나 ~~</span>, <span class=\"u_cbox_contents\" data-lang=\"ko\" style=\"\">촉법 없애라 오물이 넘쳐난다</span>, <span class=\"u_cbox_contents\" data-lang=\"ko\" style=\"\">웹툰 1위 ㄷㄷ</span>, <span class=\"u_cbox_contents\" data-lang=\"ko\" style=\"\">근데 촉법소년이면 10세 이상 만 14세 이상이라는데 그럼 많아도 만 13센데 생일 지나도 14살임... 중1..?? ....아닌가..?</span>, <span class=\"u_cbox_contents\" data-lang=\"ko\" style=\"\">나무 박았는데 후진도 안하고 어떻게 바로 핸들틀고 들이 박냐 ㅋㅋㅋㅋㅋㅋㅋㅋㅋㅋ</span>, <span class=\"u_cbox_contents\" data-lang=\"ko\" style=\"\">진짜 죽이자 이건 죽여야 한다.</span>, <span class=\"u_cbox_contents\" data-lang=\"ko\" style=\"\">실제 사건도 많았고 만화 포함 모든 영상 컨텐츠, 미디어, 사회 전반적인 여론이 촉법소년에 대해 이렇게 외치면 국회나 사법부도 좀 먼가 조치가 있어야하는거 아니냐??</span>, <span class=\"u_cbox_contents\" data-lang=\"ko\" style=\"\">경민이도 가족부터 한명 죽이고 죽이면 안되냐</span>, <span class=\"u_cbox_contents\" data-lang=\"ko\" style=\"\">너무역겨워서 더는못보겠다.. 처음엔 사이다가금방금방나와서 시원한줄알고봤는데 ㅠㅠ</span>, <span class=\"u_cbox_contents\" data-lang=\"ko\" style=\"\">🙊🙊🙊</span>, <span class=\"u_cbox_contents\" data-lang=\"ko\" style=\"\">요즘들어 이런 웹툰이나 드라마, 영화가 많이 나오더라.요즘 청소년들은 촉법소년이라는 신분 때문에 범죄를 가볍게 생각하고 자신이 범죄를 저질러도 가벼운 처벌 때문에 범죄를 쉽게 저지를 수도 있다.\n",
      "소년법은 나중에 범죄를 저지른 촉법소년들이 성인이 되서도 범죄를 가볍게 생각하고 또 저지를 수도 있는 위험한 법인것 같다..</span>, <span class=\"u_cbox_contents\" data-lang=\"ko\" style=\"\">아 못보겠다 역해서</span>, <span class=\"u_cbox_contents\" data-lang=\"ko\" style=\"\">이 만화도 그렇고 소년재판도 그렇고 보다보니 은근히 열받네 촉법소년은 특수강해 강간 국가기물 파손및 손괴 무먼허 방화 집단따돌림과 구타 인격모독 명예훼손 등등 사회에서 말하는 범죄란 범죄는 전부 저질러도 무죄라는 소리냐 ㅋㅋㅋㅋ 대한민국 참 좋은 곳이구나</span>, <span class=\"u_cbox_contents\" data-lang=\"ko\" style=\"\">진짜 촉법소년 이런거 없애라 나라가 이게 뭐냐 더불어공산당 니들 진짜 이러면 나중에 다 죗값치른다!!</span>, <span class=\"u_cbox_contents\" data-lang=\"ko\" style=\"\">개짧아</span>, <span class=\"u_cbox_contents\" data-lang=\"ko\" style=\"\">너무 억지로 잔인하고 슬프게 하려고 하는것 같아서 오히려 안슬픈거같은데</span>, <span class=\"u_cbox_contents\" data-lang=\"ko\" style=\"\">진짜 말같지도 않고 자극적인것만 자극의 끝까지 참</span>]\n"
     ]
    }
   ],
   "source": [
    "#바뀐 페이지 다시 가져와서 하기\n",
    "soup = BeautifulSoup(driver.page_source)\n",
    "comment_area = soup.findAll('span', {'class' : 'u_cbox_contents'})\n",
    "print(comment_area)"
   ]
  },
  {
   "cell_type": "code",
   "execution_count": 55,
   "id": "4967d5b8",
   "metadata": {},
   "outputs": [
    {
     "name": "stdout",
     "output_type": "stream",
     "text": [
      "********* 전체댓글 **********\n",
      "안경잡이 표정 진짜 가관이네\n",
      "------------------------------\n",
      "그래도 뉴나는 진심으로 두다리잃았다고 평생 숨어산게아니고 그걸 수영으로 변경해서 해냈다는게 진짜 대단한거 같음...저런 그스끄한테 당한게아니어서 그래도 그나마 누나답게 살아갔다는게 다행이긴하다....\n",
      "------------------------------\n",
      "갤럭시 노트 10 쓰네, 뭘 좀 아는구나\n",
      "------------------------------\n",
      "언니 너무 불쌍하다ㅜㅜㅜ\n",
      "------------------------------\n",
      "왜 마지막에 강남건물주가 보이지?\n",
      "------------------------------\n",
      "요즘 학교폭력 인식이 점점 폭력 안쓰면 학교폭력 아니게 되어버림.. 너무 재밌는데 좀 씁슬하네 더 글로리도 그렇고 왕따 같은거 당한다고 하면 때렸어? 안때렸는데 증거가 어딨어 그게 학교폭력이야? 이럼..\n",
      "------------------------------\n",
      "지린다\n",
      "------------------------------\n",
      "뭔가 좀... 다행...?ㅎ\n",
      "------------------------------\n",
      "최든 묻지마 폭행으로 한가정의 아버지를 실명하게 한 사건을 판사가 1년6개월 때렸는데... 차라리 이 방법이 더 정당한 처벌로 보인다\n",
      "------------------------------\n",
      "누나 불의의 사고로 결국 돌아가셨다고 했는데,,, 그 사고도 조영범이 사주했을 것 같음,,, 자기가 다리 망가지게 만든거 숨길라고\n",
      "------------------------------\n",
      "내용이 좀 너무 역한데\n",
      "------------------------------\n",
      "이야 김부장이 애 제대로 키웠나보네\n",
      "------------------------------\n",
      "진짜 웹툰 ㅈㄴ자극적이네\n",
      "------------------------------\n",
      "아니 검은화면 왜 없나 했는데, 그냥 연출이야? 아님 진짜 컷 빠트린거야?\n",
      "------------------------------\n",
      "복수는 잔인하게...\n",
      "------------------------------\n",
      "강남건물주가 선녀였네 ㅋㅋ\n",
      "------------------------------\n",
      "안경잡이 얼굴 GTO에서 많이보던 느낌인데\n",
      "------------------------------\n",
      "그 조영범 열쇠열어서 지옥으로 보내줄 지옥사용자 없냐 .그냥 냅둘거냐...어휴........\n",
      "------------------------------\n",
      "그니까 가족은 건드리는거 아니지..... 가족은 건드리지 말자 제발\n",
      "------------------------------\n",
      "따도 따도 또 따고 싶어요~~~ by 125억 코인충~ ㅋㅋㅋㅋㅋㅋㅋㅋㅋㅋㅋ\n",
      "------------------------------\n",
      "왠지 있을거같다 실존인물\n",
      "------------------------------\n",
      "액션 잼나 ~~\n",
      "------------------------------\n",
      "촉법 없애라 오물이 넘쳐난다\n",
      "------------------------------\n",
      "웹툰 1위 ㄷㄷ\n",
      "------------------------------\n",
      "근데 촉법소년이면 10세 이상 만 14세 이상이라는데 그럼 많아도 만 13센데 생일 지나도 14살임... 중1..?? ....아닌가..?\n",
      "------------------------------\n",
      "나무 박았는데 후진도 안하고 어떻게 바로 핸들틀고 들이 박냐 ㅋㅋㅋㅋㅋㅋㅋㅋㅋㅋ\n",
      "------------------------------\n",
      "진짜 죽이자 이건 죽여야 한다.\n",
      "------------------------------\n",
      "실제 사건도 많았고 만화 포함 모든 영상 컨텐츠, 미디어, 사회 전반적인 여론이 촉법소년에 대해 이렇게 외치면 국회나 사법부도 좀 먼가 조치가 있어야하는거 아니냐??\n",
      "------------------------------\n",
      "경민이도 가족부터 한명 죽이고 죽이면 안되냐\n",
      "------------------------------\n",
      "너무역겨워서 더는못보겠다.. 처음엔 사이다가금방금방나와서 시원한줄알고봤는데 ㅠㅠ\n",
      "------------------------------\n",
      "🙊🙊🙊\n",
      "------------------------------\n",
      "요즘들어 이런 웹툰이나 드라마, 영화가 많이 나오더라.요즘 청소년들은 촉법소년이라는 신분 때문에 범죄를 가볍게 생각하고 자신이 범죄를 저질러도 가벼운 처벌 때문에 범죄를 쉽게 저지를 수도 있다.\n",
      "소년법은 나중에 범죄를 저지른 촉법소년들이 성인이 되서도 범죄를 가볍게 생각하고 또 저지를 수도 있는 위험한 법인것 같다..\n",
      "------------------------------\n",
      "아 못보겠다 역해서\n",
      "------------------------------\n",
      "이 만화도 그렇고 소년재판도 그렇고 보다보니 은근히 열받네 촉법소년은 특수강해 강간 국가기물 파손및 손괴 무먼허 방화 집단따돌림과 구타 인격모독 명예훼손 등등 사회에서 말하는 범죄란 범죄는 전부 저질러도 무죄라는 소리냐 ㅋㅋㅋㅋ 대한민국 참 좋은 곳이구나\n",
      "------------------------------\n",
      "진짜 촉법소년 이런거 없애라 나라가 이게 뭐냐 더불어공산당 니들 진짜 이러면 나중에 다 죗값치른다!!\n",
      "------------------------------\n",
      "개짧아\n",
      "------------------------------\n",
      "너무 억지로 잔인하고 슬프게 하려고 하는것 같아서 오히려 안슬픈거같은데\n",
      "------------------------------\n",
      "진짜 말같지도 않고 자극적인것만 자극의 끝까지 참\n",
      "------------------------------\n"
     ]
    }
   ],
   "source": [
    "print('********* 전체댓글 **********')\n",
    "for i in range(len(comment_area)):\n",
    "    comment =comment_area[i].text.strip()\n",
    "    print(comment)\n",
    "    print('-'*30)"
   ]
  },
  {
   "cell_type": "code",
   "execution_count": null,
   "id": "312fba88",
   "metadata": {},
   "outputs": [],
   "source": []
  }
 ],
 "metadata": {
  "kernelspec": {
   "display_name": "Python 3 (ipykernel)",
   "language": "python",
   "name": "python3"
  },
  "language_info": {
   "codemirror_mode": {
    "name": "ipython",
    "version": 3
   },
   "file_extension": ".py",
   "mimetype": "text/x-python",
   "name": "python",
   "nbconvert_exporter": "python",
   "pygments_lexer": "ipython3",
   "version": "3.8.6"
  }
 },
 "nbformat": 4,
 "nbformat_minor": 5
}
